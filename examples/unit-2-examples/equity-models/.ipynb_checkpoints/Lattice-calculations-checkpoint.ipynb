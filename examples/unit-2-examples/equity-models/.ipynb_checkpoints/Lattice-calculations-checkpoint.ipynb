{
 "cells": [
  {
   "cell_type": "markdown",
   "id": "a4379492-4dc4-45de-9a41-0341a289a497",
   "metadata": {},
   "source": [
    "# Examples: Lattice Model Calculations\n",
    "In this notebook, we do various calculations involving binomial lattice model simulation of share prices using real-world and risk-neutral probabilities."
   ]
  },
  {
   "cell_type": "markdown",
   "id": "c7317b91-6cef-4c50-a103-f9f36e8ce890",
   "metadata": {
    "tags": []
   },
   "source": [
    "### Setup"
   ]
  },
  {
   "cell_type": "markdown",
   "id": "1221bc4a-9bb9-4583-a2f6-75cce64dc28d",
   "metadata": {},
   "source": [
    "#### Load external packages and my codes"
   ]
  },
  {
   "cell_type": "code",
   "execution_count": 1,
   "id": "daa2894f-ed26-4463-961d-9a4f9937f38f",
   "metadata": {},
   "outputs": [],
   "source": [
    "include(\"Include.jl\");"
   ]
  },
  {
   "cell_type": "markdown",
   "id": "03ee26c9-0a14-4f3c-a8ae-d42d93010a40",
   "metadata": {},
   "source": [
    "#### What companies do we want to look at?"
   ]
  },
  {
   "cell_type": "code",
   "execution_count": 2,
   "id": "08b33cd7-6e8a-4d75-b0b0-3dc0e94c9244",
   "metadata": {},
   "outputs": [],
   "source": [
    "my_ticker_array = [\"AMD\", \"WFC\", \"IBM\", \"GS\", \"TSLA\"];"
   ]
  },
  {
   "cell_type": "markdown",
   "id": "8e0d9a54-19b9-4c77-a52c-6dadca2e50f5",
   "metadata": {},
   "source": [
    "#### Load price dataset, and model parameters"
   ]
  },
  {
   "cell_type": "code",
   "execution_count": 3,
   "id": "74400d62-ca22-47e4-bc2e-45632e5dd718",
   "metadata": {},
   "outputs": [],
   "source": [
    "dataset = loaddataset();\n",
    "firm_mapping_df = loadfirmmappingfile();\n",
    "realworld_parameters_df = loadmodelparametersfile(MyRealWorldEquityModelParameters);\n",
    "riskneutral_parameters_df = loadmodelparametersfile(MySymmetricRiskNeutralEquityModelParameters);"
   ]
  },
  {
   "cell_type": "code",
   "execution_count": 4,
   "id": "a15bff89-60aa-4bea-8765-1d5d2c59457f",
   "metadata": {},
   "outputs": [
    {
     "data": {
      "text/html": [
       "<div><div style = \"float: left;\"><span>458×7 DataFrame</span></div><div style = \"float: right;\"><span style = \"font-style: italic;\">433 rows omitted</span></div><div style = \"clear: both;\"></div></div><div class = \"data-frame\" style = \"overflow-x: scroll;\"><table class = \"data-frame\" style = \"margin-bottom: 6px;\"><thead><tr class = \"header\"><th class = \"rowNumber\" style = \"font-weight: bold; text-align: right;\">Row</th><th style = \"text-align: left;\">id</th><th style = \"text-align: left;\">ticker</th><th style = \"text-align: left;\">name</th><th style = \"text-align: left;\">sector</th><th style = \"text-align: left;\">probability</th><th style = \"text-align: left;\">up</th><th style = \"text-align: left;\">down</th></tr><tr class = \"subheader headerLastRow\"><th class = \"rowNumber\" style = \"font-weight: bold; text-align: right;\"></th><th title = \"Int64\" style = \"text-align: left;\">Int64</th><th title = \"String7\" style = \"text-align: left;\">String7</th><th title = \"String\" style = \"text-align: left;\">String</th><th title = \"String31\" style = \"text-align: left;\">String31</th><th title = \"Float64\" style = \"text-align: left;\">Float64</th><th title = \"Float64\" style = \"text-align: left;\">Float64</th><th title = \"Float64\" style = \"text-align: left;\">Float64</th></tr></thead><tbody><tr><td class = \"rowNumber\" style = \"font-weight: bold; text-align: right;\">1</td><td style = \"text-align: right;\">56</td><td style = \"text-align: left;\">AZO</td><td style = \"text-align: left;\">AutoZone</td><td style = \"text-align: left;\">Consumer Discretionary</td><td style = \"text-align: right;\">0.5458</td><td style = \"text-align: right;\">1.011</td><td style = \"text-align: right;\">0.9894</td></tr><tr><td class = \"rowNumber\" style = \"font-weight: bold; text-align: right;\">2</td><td style = \"text-align: right;\">35</td><td style = \"text-align: left;\">AWK</td><td style = \"text-align: left;\">American Water Works</td><td style = \"text-align: left;\">Utilities</td><td style = \"text-align: right;\">0.5506</td><td style = \"text-align: right;\">1.009</td><td style = \"text-align: right;\">0.9899</td></tr><tr><td class = \"rowNumber\" style = \"font-weight: bold; text-align: right;\">3</td><td style = \"text-align: right;\">425</td><td style = \"text-align: left;\">SYF</td><td style = \"text-align: left;\">Synchrony Financial</td><td style = \"text-align: left;\">Financials</td><td style = \"text-align: right;\">0.5259</td><td style = \"text-align: right;\">1.016</td><td style = \"text-align: right;\">0.9824</td></tr><tr><td class = \"rowNumber\" style = \"font-weight: bold; text-align: right;\">4</td><td style = \"text-align: right;\">429</td><td style = \"text-align: left;\">TROW</td><td style = \"text-align: left;\">T. Rowe Price</td><td style = \"text-align: left;\">Financials</td><td style = \"text-align: right;\">0.5179</td><td style = \"text-align: right;\">1.013</td><td style = \"text-align: right;\">0.9865</td></tr><tr><td class = \"rowNumber\" style = \"font-weight: bold; text-align: right;\">5</td><td style = \"text-align: right;\">308</td><td style = \"text-align: left;\">MDT</td><td style = \"text-align: left;\">Medtronic</td><td style = \"text-align: left;\">Health Care</td><td style = \"text-align: right;\">0.5179</td><td style = \"text-align: right;\">1.01</td><td style = \"text-align: right;\">0.9896</td></tr><tr><td class = \"rowNumber\" style = \"font-weight: bold; text-align: right;\">6</td><td style = \"text-align: right;\">67</td><td style = \"text-align: left;\">BIO</td><td style = \"text-align: left;\">Bio-Rad Laboratories</td><td style = \"text-align: left;\">Health Care</td><td style = \"text-align: right;\">0.5339</td><td style = \"text-align: right;\">1.013</td><td style = \"text-align: right;\">0.9862</td></tr><tr><td class = \"rowNumber\" style = \"font-weight: bold; text-align: right;\">7</td><td style = \"text-align: right;\">215</td><td style = \"text-align: left;\">GIS</td><td style = \"text-align: left;\">General Mills</td><td style = \"text-align: left;\">Consumer Staples</td><td style = \"text-align: right;\">0.5371</td><td style = \"text-align: right;\">1.009</td><td style = \"text-align: right;\">0.9903</td></tr><tr><td class = \"rowNumber\" style = \"font-weight: bold; text-align: right;\">8</td><td style = \"text-align: right;\">319</td><td style = \"text-align: left;\">TAP</td><td style = \"text-align: left;\">Molson Coors Beverage Company</td><td style = \"text-align: left;\">Consumer Staples</td><td style = \"text-align: right;\">0.5179</td><td style = \"text-align: right;\">1.013</td><td style = \"text-align: right;\">0.9861</td></tr><tr><td class = \"rowNumber\" style = \"font-weight: bold; text-align: right;\">9</td><td style = \"text-align: right;\">251</td><td style = \"text-align: left;\">IFF</td><td style = \"text-align: left;\">International Flavors &amp; Fragrances</td><td style = \"text-align: left;\">Materials</td><td style = \"text-align: right;\">0.4948</td><td style = \"text-align: right;\">1.012</td><td style = \"text-align: right;\">0.9878</td></tr><tr><td class = \"rowNumber\" style = \"font-weight: bold; text-align: right;\">10</td><td style = \"text-align: right;\">112</td><td style = \"text-align: left;\">CSCO</td><td style = \"text-align: left;\">Cisco Systems</td><td style = \"text-align: left;\">Information Technology</td><td style = \"text-align: right;\">0.5179</td><td style = \"text-align: right;\">1.011</td><td style = \"text-align: right;\">0.9892</td></tr><tr><td class = \"rowNumber\" style = \"font-weight: bold; text-align: right;\">11</td><td style = \"text-align: right;\">185</td><td style = \"text-align: left;\">EXPE</td><td style = \"text-align: left;\">Expedia Group</td><td style = \"text-align: left;\">Consumer Discretionary</td><td style = \"text-align: right;\">0.5171</td><td style = \"text-align: right;\">1.017</td><td style = \"text-align: right;\">0.9817</td></tr><tr><td class = \"rowNumber\" style = \"font-weight: bold; text-align: right;\">12</td><td style = \"text-align: right;\">348</td><td style = \"text-align: left;\">ORLY</td><td style = \"text-align: left;\">O&apos;Reilly Automotive</td><td style = \"text-align: left;\">Consumer Discretionary</td><td style = \"text-align: right;\">0.5562</td><td style = \"text-align: right;\">1.01</td><td style = \"text-align: right;\">0.9893</td></tr><tr><td class = \"rowNumber\" style = \"font-weight: bold; text-align: right;\">13</td><td style = \"text-align: right;\">420</td><td style = \"text-align: left;\">SBUX</td><td style = \"text-align: left;\">Starbucks</td><td style = \"text-align: left;\">Consumer Discretionary</td><td style = \"text-align: right;\">0.5267</td><td style = \"text-align: right;\">1.011</td><td style = \"text-align: right;\">0.9886</td></tr><tr><td style = \"text-align: right;\">&vellip;</td><td style = \"text-align: right;\">&vellip;</td><td style = \"text-align: right;\">&vellip;</td><td style = \"text-align: right;\">&vellip;</td><td style = \"text-align: right;\">&vellip;</td><td style = \"text-align: right;\">&vellip;</td><td style = \"text-align: right;\">&vellip;</td><td style = \"text-align: right;\">&vellip;</td></tr><tr><td class = \"rowNumber\" style = \"font-weight: bold; text-align: right;\">447</td><td style = \"text-align: right;\">3</td><td style = \"text-align: left;\">ABT</td><td style = \"text-align: left;\">Abbott Laboratories</td><td style = \"text-align: left;\">Health Care</td><td style = \"text-align: right;\">0.5426</td><td style = \"text-align: right;\">1.01</td><td style = \"text-align: right;\">0.9894</td></tr><tr><td class = \"rowNumber\" style = \"font-weight: bold; text-align: right;\">448</td><td style = \"text-align: right;\">387</td><td style = \"text-align: left;\">QCOM</td><td style = \"text-align: left;\">Qualcomm</td><td style = \"text-align: left;\">Information Technology</td><td style = \"text-align: right;\">0.5195</td><td style = \"text-align: right;\">1.015</td><td style = \"text-align: right;\">0.9849</td></tr><tr><td class = \"rowNumber\" style = \"font-weight: bold; text-align: right;\">449</td><td style = \"text-align: right;\">306</td><td style = \"text-align: left;\">MCD</td><td style = \"text-align: left;\">McDonald&apos;s</td><td style = \"text-align: left;\">Consumer Discretionary</td><td style = \"text-align: right;\">0.5339</td><td style = \"text-align: right;\">1.008</td><td style = \"text-align: right;\">0.9915</td></tr><tr><td class = \"rowNumber\" style = \"font-weight: bold; text-align: right;\">450</td><td style = \"text-align: right;\">459</td><td style = \"text-align: left;\">UAA</td><td style = \"text-align: left;\">Under Armour (Class A)</td><td style = \"text-align: left;\">Consumer Discretionary</td><td style = \"text-align: right;\">0.5116</td><td style = \"text-align: right;\">1.021</td><td style = \"text-align: right;\">0.9783</td></tr><tr><td class = \"rowNumber\" style = \"font-weight: bold; text-align: right;\">451</td><td style = \"text-align: right;\">96</td><td style = \"text-align: left;\">CE</td><td style = \"text-align: left;\">Celanese</td><td style = \"text-align: left;\">Materials</td><td style = \"text-align: right;\">0.4948</td><td style = \"text-align: right;\">1.015</td><td style = \"text-align: right;\">0.9859</td></tr><tr><td class = \"rowNumber\" style = \"font-weight: bold; text-align: right;\">452</td><td style = \"text-align: right;\">472</td><td style = \"text-align: left;\">VRTX</td><td style = \"text-align: left;\">Vertex Pharmaceuticals</td><td style = \"text-align: left;\">Health Care</td><td style = \"text-align: right;\">0.5307</td><td style = \"text-align: right;\">1.012</td><td style = \"text-align: right;\">0.9875</td></tr><tr><td class = \"rowNumber\" style = \"font-weight: bold; text-align: right;\">453</td><td style = \"text-align: right;\">155</td><td style = \"text-align: left;\">DPZ</td><td style = \"text-align: left;\">Domino&apos;s Pizza</td><td style = \"text-align: left;\">Consumer Discretionary</td><td style = \"text-align: right;\">0.5139</td><td style = \"text-align: right;\">1.012</td><td style = \"text-align: right;\">0.9884</td></tr><tr><td class = \"rowNumber\" style = \"font-weight: bold; text-align: right;\">454</td><td style = \"text-align: right;\">181</td><td style = \"text-align: left;\">RE</td><td style = \"text-align: left;\">Everest Re</td><td style = \"text-align: left;\">Financials</td><td style = \"text-align: right;\">0.5275</td><td style = \"text-align: right;\">1.011</td><td style = \"text-align: right;\">0.9884</td></tr><tr><td class = \"rowNumber\" style = \"font-weight: bold; text-align: right;\">455</td><td style = \"text-align: right;\">65</td><td style = \"text-align: left;\">BRK.B</td><td style = \"text-align: left;\">Berkshire Hathaway</td><td style = \"text-align: left;\">Financials</td><td style = \"text-align: right;\">0.5147</td><td style = \"text-align: right;\">1.009</td><td style = \"text-align: right;\">0.9916</td></tr><tr><td class = \"rowNumber\" style = \"font-weight: bold; text-align: right;\">456</td><td style = \"text-align: right;\">504</td><td style = \"text-align: left;\">ZION</td><td style = \"text-align: left;\">Zions Bancorp</td><td style = \"text-align: left;\">Financials</td><td style = \"text-align: right;\">0.5076</td><td style = \"text-align: right;\">1.016</td><td style = \"text-align: right;\">0.9844</td></tr><tr><td class = \"rowNumber\" style = \"font-weight: bold; text-align: right;\">457</td><td style = \"text-align: right;\">446</td><td style = \"text-align: left;\">TMO</td><td style = \"text-align: left;\">Thermo Fisher Scientific</td><td style = \"text-align: left;\">Health Care</td><td style = \"text-align: right;\">0.5458</td><td style = \"text-align: right;\">1.011</td><td style = \"text-align: right;\">0.9884</td></tr><tr><td class = \"rowNumber\" style = \"font-weight: bold; text-align: right;\">458</td><td style = \"text-align: right;\">298</td><td style = \"text-align: left;\">MKTX</td><td style = \"text-align: left;\">MarketAxess</td><td style = \"text-align: left;\">Financials</td><td style = \"text-align: right;\">0.5299</td><td style = \"text-align: right;\">1.013</td><td style = \"text-align: right;\">0.9859</td></tr></tbody></table></div>"
      ],
      "text/latex": [
       "\\begin{tabular}{r|cccccc}\n",
       "\t& id & ticker & name & sector & probability & \\\\\n",
       "\t\\hline\n",
       "\t& Int64 & String7 & String & String31 & Float64 & \\\\\n",
       "\t\\hline\n",
       "\t1 & 56 & AZO & AutoZone & Consumer Discretionary & 0.5458 & $\\dots$ \\\\\n",
       "\t2 & 35 & AWK & American Water Works & Utilities & 0.5506 & $\\dots$ \\\\\n",
       "\t3 & 425 & SYF & Synchrony Financial & Financials & 0.5259 & $\\dots$ \\\\\n",
       "\t4 & 429 & TROW & T. Rowe Price & Financials & 0.5179 & $\\dots$ \\\\\n",
       "\t5 & 308 & MDT & Medtronic & Health Care & 0.5179 & $\\dots$ \\\\\n",
       "\t6 & 67 & BIO & Bio-Rad Laboratories & Health Care & 0.5339 & $\\dots$ \\\\\n",
       "\t7 & 215 & GIS & General Mills & Consumer Staples & 0.5371 & $\\dots$ \\\\\n",
       "\t8 & 319 & TAP & Molson Coors Beverage Company & Consumer Staples & 0.5179 & $\\dots$ \\\\\n",
       "\t9 & 251 & IFF & International Flavors \\& Fragrances & Materials & 0.4948 & $\\dots$ \\\\\n",
       "\t10 & 112 & CSCO & Cisco Systems & Information Technology & 0.5179 & $\\dots$ \\\\\n",
       "\t11 & 185 & EXPE & Expedia Group & Consumer Discretionary & 0.5171 & $\\dots$ \\\\\n",
       "\t12 & 348 & ORLY & O'Reilly Automotive & Consumer Discretionary & 0.5562 & $\\dots$ \\\\\n",
       "\t13 & 420 & SBUX & Starbucks & Consumer Discretionary & 0.5267 & $\\dots$ \\\\\n",
       "\t14 & 404 & RCL & Royal Caribbean Group & Consumer Discretionary & 0.49 & $\\dots$ \\\\\n",
       "\t15 & 365 & PEP & PepsiCo & Consumer Staples & 0.5402 & $\\dots$ \\\\\n",
       "\t16 & 417 & SO & Southern Company & Utilities & 0.541 & $\\dots$ \\\\\n",
       "\t17 & 333 & NWS & News Corp (Class B) & Communication Services & 0.5147 & $\\dots$ \\\\\n",
       "\t18 & 86 & COF & Capital One Financial & Financials & 0.5187 & $\\dots$ \\\\\n",
       "\t19 & 168 & EW & Edwards Lifesciences & Health Care & 0.5363 & $\\dots$ \\\\\n",
       "\t20 & 431 & TPR & Tapestry & Consumer Discretionary & 0.51 & $\\dots$ \\\\\n",
       "\t21 & 207 & BEN & Franklin Resources & Financials & 0.498 & $\\dots$ \\\\\n",
       "\t22 & 263 & SJM & JM Smucker & Consumer Staples & 0.5323 & $\\dots$ \\\\\n",
       "\t23 & 422 & STE & Steris & Health Care & 0.5434 & $\\dots$ \\\\\n",
       "\t24 & 242 & IEX & IDEX Corporation & Industrials & 0.5347 & $\\dots$ \\\\\n",
       "\t25 & 183 & ES & Eversource Energy & Utilities & 0.5386 & $\\dots$ \\\\\n",
       "\t26 & 376 & PFG & Principal Financial Group & Financials & 0.5227 & $\\dots$ \\\\\n",
       "\t27 & 479 & WRB & W. R. Berkley Corporation & Financials & 0.5514 & $\\dots$ \\\\\n",
       "\t28 & 224 & HAS & Hasbro & Consumer Discretionary & 0.5179 & $\\dots$ \\\\\n",
       "\t29 & 465 & UNH & UnitedHealth Group & Health Care & 0.5155 & $\\dots$ \\\\\n",
       "\t30 & 177 & EQR & Equity Residential & Real Estate & 0.5331 & $\\dots$ \\\\\n",
       "\t$\\dots$ & $\\dots$ & $\\dots$ & $\\dots$ & $\\dots$ & $\\dots$ &  \\\\\n",
       "\\end{tabular}\n"
      ],
      "text/plain": [
       "\u001b[1m458×7 DataFrame\u001b[0m\n",
       "\u001b[1m Row \u001b[0m│\u001b[1m id    \u001b[0m\u001b[1m ticker  \u001b[0m\u001b[1m name                              \u001b[0m\u001b[1m sector              \u001b[0m ⋯\n",
       "     │\u001b[90m Int64 \u001b[0m\u001b[90m String7 \u001b[0m\u001b[90m String                            \u001b[0m\u001b[90m String31            \u001b[0m ⋯\n",
       "─────┼──────────────────────────────────────────────────────────────────────────\n",
       "   1 │    56  AZO      AutoZone                           Consumer Discretiona ⋯\n",
       "   2 │    35  AWK      American Water Works               Utilities\n",
       "   3 │   425  SYF      Synchrony Financial                Financials\n",
       "   4 │   429  TROW     T. Rowe Price                      Financials\n",
       "   5 │   308  MDT      Medtronic                          Health Care          ⋯\n",
       "   6 │    67  BIO      Bio-Rad Laboratories               Health Care\n",
       "   7 │   215  GIS      General Mills                      Consumer Staples\n",
       "   8 │   319  TAP      Molson Coors Beverage Company      Consumer Staples\n",
       "   9 │   251  IFF      International Flavors & Fragranc…  Materials            ⋯\n",
       "  10 │   112  CSCO     Cisco Systems                      Information Technolo\n",
       "  11 │   185  EXPE     Expedia Group                      Consumer Discretiona\n",
       "  ⋮  │   ⋮       ⋮                     ⋮                            ⋮          ⋱\n",
       " 449 │   306  MCD      McDonald's                         Consumer Discretiona\n",
       " 450 │   459  UAA      Under Armour (Class A)             Consumer Discretiona ⋯\n",
       " 451 │    96  CE       Celanese                           Materials\n",
       " 452 │   472  VRTX     Vertex Pharmaceuticals             Health Care\n",
       " 453 │   155  DPZ      Domino's Pizza                     Consumer Discretiona\n",
       " 454 │   181  RE       Everest Re                         Financials           ⋯\n",
       " 455 │    65  BRK.B    Berkshire Hathaway                 Financials\n",
       " 456 │   504  ZION     Zions Bancorp                      Financials\n",
       " 457 │   446  TMO      Thermo Fisher Scientific           Health Care\n",
       " 458 │   298  MKTX     MarketAxess                        Financials           ⋯\n",
       "\u001b[36m                                                  4 columns and 437 rows omitted\u001b[0m"
      ]
     },
     "execution_count": 4,
     "metadata": {},
     "output_type": "execute_result"
    }
   ],
   "source": [
    "realworld_parameters_df"
   ]
  },
  {
   "cell_type": "markdown",
   "id": "ba609412-188a-48e1-ad79-84e9e6daef32",
   "metadata": {},
   "source": [
    "## Task 1: Build the Real-world and Risk-neutral Risk Premium Table"
   ]
  },
  {
   "cell_type": "code",
   "execution_count": 30,
   "id": "cd6d10a5-cb8f-4d92-a809-9b47a94abdcf",
   "metadata": {},
   "outputs": [],
   "source": [
    "risk_premium_df = DataFrame(id=Int64[], ticker=String[], name=String[], sector=String[], \n",
    "    Sₒ = Float64[], RWE=Float64[], RNE=Float64[], RP = Float64[], T=Int64[])\n",
    "\n",
    "\n",
    "test_index = 1000\n",
    "for ticker ∈ my_ticker_array\n",
    "    \n",
    "    # firm -\n",
    "    firm_id = realworld_parameters_df[realworld_parameters_df.ticker .== ticker, :id][1];\n",
    "    firm_dataset = dataset[firm_id];\n",
    "    name_value = firm_mapping_df[firm_id, :Name];\n",
    "    sector_value = firm_mapping_df[firm_id, :Sector];\n",
    "    Sₒ = firm_dataset[test_index, :volume_weighted_average_price];\n",
    "    S₁ = firm_dataset[test_index+1, :volume_weighted_average_price];\n",
    "    \n",
    "    # get real-world and risk neutral parameters -\n",
    "    real_world_record_df = realworld_parameters_df[realworld_parameters_df.ticker .== ticker,:];\n",
    "    risk_neutral_record_df = riskneutral_parameters_df[riskneutral_parameters_df.ticker .== ticker,:];\n",
    "    \n",
    "    # compute real-world expectation -\n",
    "    real_world_expectation = 𝔼(Sₒ = Sₒ, u = real_world_record_df[1,:up], \n",
    "        d = real_world_record_df[1,:down], probability = real_world_record_df[1,:probability]);\n",
    "    \n",
    "    # compute the risk-neutral expectation -\n",
    "    risk_neutral_expectation = 𝔼(Sₒ = Sₒ, u = risk_neutral_record_df[1,:up], \n",
    "        d = risk_neutral_record_df[1,:down], probability = risk_neutral_record_df[1,:probability]);\n",
    "        \n",
    "    # compute the risk premium -\n",
    "    risk_premium = log(real_world_expectation/Sₒ) - log(risk_neutral_expectation/Sₒ)\n",
    "    \n",
    "    # populate the df -\n",
    "    results_tuple = (\n",
    "        id = firm_id,\n",
    "        ticker = ticker,\n",
    "        name = name_value,\n",
    "        sector = sector_value,\n",
    "        Sₒ = Sₒ, \n",
    "        RNE = risk_neutral_expectation,\n",
    "        RWE = real_world_expectation,\n",
    "        RP = risk_premium*100,\n",
    "        T = test_index\n",
    "    );\n",
    "    \n",
    "    push!(risk_premium_df, results_tuple);\n",
    "end"
   ]
  },
  {
   "cell_type": "code",
   "execution_count": 31,
   "id": "c1b6eed2-022d-4675-b08d-f8f756bfc62f",
   "metadata": {},
   "outputs": [
    {
     "data": {
      "text/html": [
       "<div><div style = \"float: left;\"><span>5×9 DataFrame</span></div><div style = \"clear: both;\"></div></div><div class = \"data-frame\" style = \"overflow-x: scroll;\"><table class = \"data-frame\" style = \"margin-bottom: 6px;\"><thead><tr class = \"header\"><th class = \"rowNumber\" style = \"font-weight: bold; text-align: right;\">Row</th><th style = \"text-align: left;\">id</th><th style = \"text-align: left;\">ticker</th><th style = \"text-align: left;\">name</th><th style = \"text-align: left;\">sector</th><th style = \"text-align: left;\">Sₒ</th><th style = \"text-align: left;\">RWE</th><th style = \"text-align: left;\">RNE</th><th style = \"text-align: left;\">RP</th><th style = \"text-align: left;\">T</th></tr><tr class = \"subheader headerLastRow\"><th class = \"rowNumber\" style = \"font-weight: bold; text-align: right;\"></th><th title = \"Int64\" style = \"text-align: left;\">Int64</th><th title = \"String\" style = \"text-align: left;\">String</th><th title = \"String\" style = \"text-align: left;\">String</th><th title = \"String\" style = \"text-align: left;\">String</th><th title = \"Float64\" style = \"text-align: left;\">Float64</th><th title = \"Float64\" style = \"text-align: left;\">Float64</th><th title = \"Float64\" style = \"text-align: left;\">Float64</th><th title = \"Float64\" style = \"text-align: left;\">Float64</th><th title = \"Int64\" style = \"text-align: left;\">Int64</th></tr></thead><tbody><tr><td class = \"rowNumber\" style = \"font-weight: bold; text-align: right;\">1</td><td style = \"text-align: right;\">11</td><td style = \"text-align: left;\">AMD</td><td style = \"text-align: left;\">Advanced Micro Devices</td><td style = \"text-align: left;\">Information Technology</td><td style = \"text-align: right;\">146.781</td><td style = \"text-align: right;\">147.029</td><td style = \"text-align: right;\">146.792</td><td style = \"text-align: right;\">0.161709</td><td style = \"text-align: right;\">1000</td></tr><tr><td class = \"rowNumber\" style = \"font-weight: bold; text-align: right;\">2</td><td style = \"text-align: right;\">487</td><td style = \"text-align: left;\">WFC</td><td style = \"text-align: left;\">Wells Fargo</td><td style = \"text-align: left;\">Financials</td><td style = \"text-align: right;\">48.4377</td><td style = \"text-align: right;\">48.4293</td><td style = \"text-align: right;\">48.4414</td><td style = \"text-align: right;\">-0.0248892</td><td style = \"text-align: right;\">1000</td></tr><tr><td class = \"rowNumber\" style = \"font-weight: bold; text-align: right;\">3</td><td style = \"text-align: right;\">241</td><td style = \"text-align: left;\">IBM</td><td style = \"text-align: left;\">IBM</td><td style = \"text-align: left;\">Information Technology</td><td style = \"text-align: right;\">130.556</td><td style = \"text-align: right;\">130.565</td><td style = \"text-align: right;\">130.584</td><td style = \"text-align: right;\">-0.014266</td><td style = \"text-align: right;\">1000</td></tr><tr><td class = \"rowNumber\" style = \"font-weight: bold; text-align: right;\">4</td><td style = \"text-align: right;\">221</td><td style = \"text-align: left;\">GS</td><td style = \"text-align: left;\">Goldman Sachs</td><td style = \"text-align: left;\">Financials</td><td style = \"text-align: right;\">385.136</td><td style = \"text-align: right;\">385.252</td><td style = \"text-align: right;\">385.165</td><td style = \"text-align: right;\">0.0225558</td><td style = \"text-align: right;\">1000</td></tr><tr><td class = \"rowNumber\" style = \"font-weight: bold; text-align: right;\">5</td><td style = \"text-align: right;\">437</td><td style = \"text-align: left;\">TSLA</td><td style = \"text-align: left;\">Tesla</td><td style = \"text-align: left;\">Consumer Discretionary</td><td style = \"text-align: right;\">348.617</td><td style = \"text-align: right;\">349.38</td><td style = \"text-align: right;\">348.727</td><td style = \"text-align: right;\">0.187174</td><td style = \"text-align: right;\">1000</td></tr></tbody></table></div>"
      ],
      "text/latex": [
       "\\begin{tabular}{r|ccccccc}\n",
       "\t& id & ticker & name & sector & Sₒ & RWE & \\\\\n",
       "\t\\hline\n",
       "\t& Int64 & String & String & String & Float64 & Float64 & \\\\\n",
       "\t\\hline\n",
       "\t1 & 11 & AMD & Advanced Micro Devices & Information Technology & 146.781 & 147.029 & $\\dots$ \\\\\n",
       "\t2 & 487 & WFC & Wells Fargo & Financials & 48.4377 & 48.4293 & $\\dots$ \\\\\n",
       "\t3 & 241 & IBM & IBM & Information Technology & 130.556 & 130.565 & $\\dots$ \\\\\n",
       "\t4 & 221 & GS & Goldman Sachs & Financials & 385.136 & 385.252 & $\\dots$ \\\\\n",
       "\t5 & 437 & TSLA & Tesla & Consumer Discretionary & 348.617 & 349.38 & $\\dots$ \\\\\n",
       "\\end{tabular}\n"
      ],
      "text/plain": [
       "\u001b[1m5×9 DataFrame\u001b[0m\n",
       "\u001b[1m Row \u001b[0m│\u001b[1m id    \u001b[0m\u001b[1m ticker \u001b[0m\u001b[1m name                   \u001b[0m\u001b[1m sector                 \u001b[0m\u001b[1m Sₒ      \u001b[0m ⋯\n",
       "     │\u001b[90m Int64 \u001b[0m\u001b[90m String \u001b[0m\u001b[90m String                 \u001b[0m\u001b[90m String                 \u001b[0m\u001b[90m Float64 \u001b[0m ⋯\n",
       "─────┼──────────────────────────────────────────────────────────────────────────\n",
       "   1 │    11  AMD     Advanced Micro Devices  Information Technology  146.781  ⋯\n",
       "   2 │   487  WFC     Wells Fargo             Financials               48.4377\n",
       "   3 │   241  IBM     IBM                     Information Technology  130.556\n",
       "   4 │   221  GS      Goldman Sachs           Financials              385.136\n",
       "   5 │   437  TSLA    Tesla                   Consumer Discretionary  348.617  ⋯\n",
       "\u001b[36m                                                               4 columns omitted\u001b[0m"
      ]
     },
     "execution_count": 31,
     "metadata": {},
     "output_type": "execute_result"
    }
   ],
   "source": [
    "risk_premium_df"
   ]
  },
  {
   "cell_type": "code",
   "execution_count": null,
   "id": "d3016b2b-a16b-411f-951c-c0ce77db82bb",
   "metadata": {},
   "outputs": [],
   "source": []
  }
 ],
 "metadata": {
  "kernelspec": {
   "display_name": "Julia 1.9.1",
   "language": "julia",
   "name": "julia-1.9"
  },
  "language_info": {
   "file_extension": ".jl",
   "mimetype": "application/julia",
   "name": "julia",
   "version": "1.9.1"
  }
 },
 "nbformat": 4,
 "nbformat_minor": 5
}
