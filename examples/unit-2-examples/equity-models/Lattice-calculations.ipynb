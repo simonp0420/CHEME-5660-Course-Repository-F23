{
 "cells": [
  {
   "cell_type": "markdown",
   "id": "a4379492-4dc4-45de-9a41-0341a289a497",
   "metadata": {},
   "source": [
    "# Examples: Lattice Model Calculations\n",
    "In this notebook, we do various calculations involving binomial lattice model simulation of share prices using real-world and risk-neutral probabilities."
   ]
  },
  {
   "cell_type": "markdown",
   "id": "c7317b91-6cef-4c50-a103-f9f36e8ce890",
   "metadata": {
    "tags": []
   },
   "source": [
    "### Setup"
   ]
  },
  {
   "cell_type": "markdown",
   "id": "1221bc4a-9bb9-4583-a2f6-75cce64dc28d",
   "metadata": {},
   "source": [
    "#### Load external packages and my codes"
   ]
  },
  {
   "cell_type": "code",
   "execution_count": 1,
   "id": "daa2894f-ed26-4463-961d-9a4f9937f38f",
   "metadata": {},
   "outputs": [],
   "source": [
    "include(\"Include.jl\");"
   ]
  },
  {
   "cell_type": "markdown",
   "id": "03ee26c9-0a14-4f3c-a8ae-d42d93010a40",
   "metadata": {},
   "source": [
    "#### What companies do we want to look at?"
   ]
  },
  {
   "cell_type": "code",
   "execution_count": 2,
   "id": "08b33cd7-6e8a-4d75-b0b0-3dc0e94c9244",
   "metadata": {},
   "outputs": [],
   "source": [
    "my_ticker_array = [\"AMD\", \"WFC\", \"IBM\", \"GS\", \"TSLA\"];"
   ]
  },
  {
   "cell_type": "markdown",
   "id": "8e0d9a54-19b9-4c77-a52c-6dadca2e50f5",
   "metadata": {},
   "source": [
    "#### Load price dataset, and model parameters"
   ]
  },
  {
   "cell_type": "code",
   "execution_count": 3,
   "id": "74400d62-ca22-47e4-bc2e-45632e5dd718",
   "metadata": {},
   "outputs": [],
   "source": [
    "dataset = loaddataset();\n",
    "firm_mapping_df = loadfirmmappingfile();\n",
    "realworld_parameters_df = loadmodelparametersfile(MyRealWorldEquityModelParameters);\n",
    "riskneutral_parameters_df = loadmodelparametersfile(MySymmetricRiskNeutralEquityModelParameters);"
   ]
  },
  {
   "cell_type": "markdown",
   "id": "ba609412-188a-48e1-ad79-84e9e6daef32",
   "metadata": {},
   "source": [
    "## Task 1: Build the Real-world and Risk-neutral Risk Premium Table"
   ]
  },
  {
   "cell_type": "code",
   "execution_count": 4,
   "id": "cd6d10a5-cb8f-4d92-a809-9b47a94abdcf",
   "metadata": {
    "jupyter": {
     "source_hidden": true
    },
    "tags": []
   },
   "outputs": [],
   "source": [
    "risk_premium_df = DataFrame(id=Int64[], ticker=String[], name=String[], \n",
    "    Sₒ = Float64[], RWE=Float64[], RNE=Float64[], ΔS = Float64[], RP = Float64[])\n",
    "\n",
    "\n",
    "test_index = 1200\n",
    "for ticker ∈ my_ticker_array\n",
    "    \n",
    "    # firm -\n",
    "    firm_id = realworld_parameters_df[realworld_parameters_df.ticker .== ticker, :id][1];\n",
    "    firm_dataset = dataset[firm_id];\n",
    "    name_value = firm_mapping_df[firm_id, :Name];\n",
    "    sector_value = firm_mapping_df[firm_id, :Sector];\n",
    "    Sₒ = firm_dataset[test_index, :volume_weighted_average_price];\n",
    "    S₁ = firm_dataset[test_index+1, :volume_weighted_average_price];\n",
    "    \n",
    "    # get real-world and risk neutral parameters -\n",
    "    real_world_record_df = realworld_parameters_df[realworld_parameters_df.ticker .== ticker,:];\n",
    "    risk_neutral_record_df = riskneutral_parameters_df[riskneutral_parameters_df.ticker .== ticker,:];\n",
    "    \n",
    "    # compute real-world expectation -\n",
    "    real_world_expectation = 𝔼(Sₒ = Sₒ, u = real_world_record_df[1,:up], \n",
    "        d = real_world_record_df[1,:down], probability = real_world_record_df[1,:probability]);\n",
    "    \n",
    "    # compute the risk-neutral expectation -\n",
    "    risk_neutral_expectation = 𝔼(Sₒ = Sₒ, u = risk_neutral_record_df[1,:up], \n",
    "        d = risk_neutral_record_df[1,:down], probability = risk_neutral_record_df[1,:probability]);\n",
    "        \n",
    "    # compute the risk premium -\n",
    "    risk_premium = log(real_world_expectation/Sₒ) - log(risk_neutral_expectation/Sₒ)\n",
    "    \n",
    "    # compute the change in share price -\n",
    "    ΔS = (real_world_expectation - risk_neutral_expectation);\n",
    "    \n",
    "    # populate the df -\n",
    "    results_tuple = (\n",
    "        id = firm_id,\n",
    "        ticker = ticker,\n",
    "        name = name_value,\n",
    "        # sector = sector_value,\n",
    "        Sₒ = round(Sₒ,sigdigits=4), \n",
    "        RNE = round(risk_neutral_expectation, sigdigits=4),\n",
    "        RWE = round(real_world_expectation, sigdigits=4),\n",
    "        ΔS = round(ΔS, sigdigits=4),\n",
    "        RP = round(risk_premium*100, sigdigits=4),\n",
    "        # RPSP = round((ΔS/Sₒ)*100, sigdigits=4),\n",
    "        # T = test_index\n",
    "    );\n",
    "    \n",
    "    push!(risk_premium_df, results_tuple);\n",
    "end"
   ]
  },
  {
   "cell_type": "code",
   "execution_count": 5,
   "id": "c1b6eed2-022d-4675-b08d-f8f756bfc62f",
   "metadata": {},
   "outputs": [],
   "source": [
    "# risk_premium_df |> markdown_table(String) |> clipboard"
   ]
  },
  {
   "cell_type": "markdown",
   "id": "8c0ded24-35d8-4ebd-b2d2-8d3f4e9fcca5",
   "metadata": {},
   "source": [
    "## Task 2: T-day prediction capability"
   ]
  },
  {
   "cell_type": "code",
   "execution_count": 6,
   "id": "e54d067a-0d15-4dce-a78e-9b395059ef98",
   "metadata": {},
   "outputs": [],
   "source": [
    "T = 21; # let's do a 21 day prediction\n",
    "max_number_of_records = 1256; # we have 1256 days of data"
   ]
  },
  {
   "cell_type": "code",
   "execution_count": 7,
   "id": "efa1152a-d8a8-40b9-a427-fb7649078066",
   "metadata": {},
   "outputs": [
    {
     "name": "stdout",
     "output_type": "stream",
     "text": [
      "Date range has been generated\n"
     ]
    }
   ],
   "source": [
    "date_range_set = Set{StepRange{Int64, Int64}}();\n",
    "number_of_date_ranges = 1200;\n",
    "counter = 0\n",
    "while (counter < number_of_date_ranges)\n",
    "    \n",
    "    start_index = rand(1:(max_number_of_records - T - 1))\n",
    "    stop_index = start_index + T\n",
    "    range(start_index, stop=stop_index, step=1) |> (x-> push!(date_range_set, x))\n",
    "    \n",
    "    counter = length(date_range_set);\n",
    "end\n",
    "\n",
    "println(\"Date range has been generated\")"
   ]
  },
  {
   "cell_type": "code",
   "execution_count": 8,
   "id": "cee39422-8bad-4834-9b4d-eff487b74e50",
   "metadata": {
    "jupyter": {
     "source_hidden": true
    },
    "tags": []
   },
   "outputs": [],
   "source": [
    "success_simulation_set = Set{Tuple{Int64, StepRange{Int64, Int64}}}()\n",
    "failed_simulation_set = Set{Tuple{Int64, StepRange{Int64, Int64}}}()\n",
    "failed_simulation_set = Set{Tuple{Int64, StepRange{Int64, Int64}}}()\n",
    "levels = [k for k ∈ 0:(T-1)]\n",
    "\n",
    "# adapters -\n",
    "parameters = riskneutral_parameters_df;\n",
    "list_of_firm_ids = realworld_parameters_df[:,:id]; \n",
    "\n",
    "# main -\n",
    "for firm_id ∈ list_of_firm_ids\n",
    "    \n",
    "    # parameters -\n",
    "    ū = parameters[parameters.id .== firm_id, :up] |> first;\n",
    "    d̄ = parameters[parameters.id .== firm_id, :down] |> first;\n",
    "    p̄ = parameters[parameters.id .== firm_id, :probability] |> first;\n",
    "    \n",
    "    # data for this firm\n",
    "    firm_data = dataset[firm_id];\n",
    "    \n",
    "    date_range_set_copy = deepcopy(date_range_set)\n",
    "    while (isempty(date_range_set_copy) == false)\n",
    "        \n",
    "        date_range = pop!(date_range_set_copy);\n",
    "        start_index = first(date_range)\n",
    "        stop_index = last(date_range)\n",
    "        \n",
    "        # set the starting price\n",
    "        Sₒ = firm_data[start_index, :volume_weighted_average_price];\n",
    "        \n",
    "        # build the model, populate with price estimates \n",
    "        model = build(MyBinomialEquityPriceTree, (\n",
    "            u = ū, d = d̄, p = p̄)) |> (x-> populate(x, Sₒ, T));\n",
    "        \n",
    "        expectation = 𝔼(model, levels; startindex = start_index);\n",
    "        variance = Var(model, levels; startindex = start_index);\n",
    "        \n",
    "        L = expectation[:,2] .- 2.576*sqrt.(variance[:,2])\n",
    "        U = expectation[:,2] .+ 2.576*sqrt.(variance[:,2])\n",
    "        \n",
    "        # check the bounds: if below L, or above U then simulation failed\n",
    "        success_flag = true;\n",
    "        for k ∈ 1:T\n",
    "            if (firm_data[start_index+k-1,:volume_weighted_average_price] < L[k]) || (firm_data[start_index+k-1,:volume_weighted_average_price] > U[k])\n",
    "                success_flag  = false;\n",
    "                break;\n",
    "            end\n",
    "        end\n",
    "        \n",
    "        position_tuple = (firm_id, date_range)\n",
    "        if (success_flag == true)\n",
    "            push!(success_simulation_set, position_tuple);\n",
    "        else\n",
    "            push!(failed_simulation_set, position_tuple);\n",
    "        end\n",
    "    end\n",
    "end"
   ]
  },
  {
   "cell_type": "code",
   "execution_count": 9,
   "id": "1c32001e-a003-4932-a341-caf3a198fb17",
   "metadata": {
    "jupyter": {
     "source_hidden": true
    },
    "tags": []
   },
   "outputs": [],
   "source": [
    "probability_dictionary = Dict{Int64, Float64}()\n",
    "for firm_id ∈ list_of_firm_ids\n",
    "    probability_dictionary[firm_id] = 0.0\n",
    "end\n",
    "\n",
    "for success_case ∈ success_simulation_set\n",
    "    \n",
    "    firm_id = success_case |> first;\n",
    "    if (haskey(probability_dictionary, firm_id) == false)\n",
    "        probability_dictionary[firm_id] = (1/number_of_date_ranges);\n",
    "    else\n",
    "        probability_dictionary[firm_id] += (1.0/number_of_date_ranges);\n",
    "    end\n",
    "end"
   ]
  },
  {
   "cell_type": "code",
   "execution_count": 10,
   "id": "8a769880-b7e7-4c4a-8451-77aa8c919d76",
   "metadata": {
    "jupyter": {
     "source_hidden": true
    },
    "tags": []
   },
   "outputs": [],
   "source": [
    "probability_ticker_dictionary = Dict{String, Float64}()\n",
    "for (firm_id, probability) ∈ probability_dictionary\n",
    "    ticker_symbol = firm_mapping_df[firm_id,:Symbol];\n",
    "    probability_ticker_dictionary[ticker_symbol] = probability\n",
    "end"
   ]
  },
  {
   "cell_type": "code",
   "execution_count": 11,
   "id": "307b018c-161f-4387-8692-6bee5b683042",
   "metadata": {},
   "outputs": [],
   "source": [
    "# dump the prob dictionary to disk -\n",
    "path_to_prob_file = joinpath(_PATH_TO_DATA,\"Prob-dictionary-99-lattice-RN-T21-N$(number_of_date_ranges).jld2\");\n",
    "save(path_to_prob_file, Dict(\"dataset\" => probability_ticker_dictionary))"
   ]
  },
  {
   "cell_type": "markdown",
   "id": "81d9f075-ae81-4a5a-b7b9-2f9dcd02f927",
   "metadata": {},
   "source": [
    "#### Build a success probability table"
   ]
  },
  {
   "cell_type": "code",
   "execution_count": 12,
   "id": "149715e8-d757-4496-8af3-df543f7fb119",
   "metadata": {},
   "outputs": [],
   "source": [
    "success_probability_df = DataFrame(id=Int64[], ticker=String[], name=String[], sector=String[], \n",
    "    probability=Float64[]);\n",
    "\n",
    "for ticker ∈ my_ticker_array\n",
    "    \n",
    "    firm_id = realworld_parameters_df[realworld_parameters_df.ticker .== ticker, :id][1];\n",
    "    firm_dataset = dataset[firm_id];\n",
    "    name_value = firm_mapping_df[firm_id, :Name];\n",
    "    sector_value = firm_mapping_df[firm_id, :Sector];\n",
    "    p = probability_ticker_dictionary[ticker];\n",
    "    \n",
    "    # populate the df -\n",
    "    results_tuple = (\n",
    "        id = firm_id,\n",
    "        ticker = ticker,\n",
    "        name = name_value,\n",
    "        sector = sector_value,\n",
    "        probability = round(p, sigdigits=4)\n",
    "    );\n",
    "    \n",
    "    push!(success_probability_df, results_tuple);\n",
    "end"
   ]
  },
  {
   "cell_type": "code",
   "execution_count": 14,
   "id": "bf855818-7271-4840-8f56-02e65d27af8a",
   "metadata": {},
   "outputs": [],
   "source": [
    "success_probability_df |> markdown_table(String) |> clipboard"
   ]
  },
  {
   "cell_type": "code",
   "execution_count": null,
   "id": "dab015f8-2a83-4da8-b0f0-b3dd8f371fd1",
   "metadata": {},
   "outputs": [],
   "source": []
  }
 ],
 "metadata": {
  "kernelspec": {
   "display_name": "Julia 1.9.1",
   "language": "julia",
   "name": "julia-1.9"
  },
  "language_info": {
   "file_extension": ".jl",
   "mimetype": "application/julia",
   "name": "julia",
   "version": "1.9.1"
  }
 },
 "nbformat": 4,
 "nbformat_minor": 5
}
